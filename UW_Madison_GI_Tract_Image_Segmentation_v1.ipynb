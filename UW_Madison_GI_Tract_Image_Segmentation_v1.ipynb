{
  "nbformat": 4,
  "nbformat_minor": 0,
  "metadata": {
    "colab": {
      "name": "UW-Madison_GI_Tract_Image_Segmentation_v1",
      "provenance": [],
      "machine_shape": "hm",
      "collapsed_sections": [],
      "mount_file_id": "1Xg_BlTSJb44JyDkp84ySj1YkVnSH629m",
      "authorship_tag": "ABX9TyPCMhJp95PmESmrHfNomNvf",
      "include_colab_link": true
    },
    "kernelspec": {
      "name": "python3",
      "display_name": "Python 3"
    },
    "language_info": {
      "name": "python"
    },
    "accelerator": "GPU"
  },
  "cells": [
    {
      "cell_type": "markdown",
      "metadata": {
        "id": "view-in-github",
        "colab_type": "text"
      },
      "source": [
        "<a href=\"https://colab.research.google.com/github/TomohiroYazaki/UW-Madison_GI_Tract_Image_Segmentation/blob/main/UW_Madison_GI_Tract_Image_Segmentation_v1.ipynb\" target=\"_parent\"><img src=\"https://colab.research.google.com/assets/colab-badge.svg\" alt=\"Open In Colab\"/></a>"
      ]
    },
    {
      "cell_type": "code",
      "source": [
        "!rm -f -r /content/DATA\n",
        "!rm -f -r /content/OUTPUT\n",
        "!rm -f -r /content/OUTPUT/MODEL"
      ],
      "metadata": {
        "id": "KdDvPW8TPF_L"
      },
      "execution_count": null,
      "outputs": []
    },
    {
      "cell_type": "code",
      "source": [
        "!mkdir DATA\n",
        "!mkdir OUTPUT"
      ],
      "metadata": {
        "id": "NULw9Q10PIdW"
      },
      "execution_count": null,
      "outputs": []
    },
    {
      "cell_type": "code",
      "source": [
        "%%time\n",
        "!mkdir DATA/MASK\n",
        "!cp /content/drive/MyDrive/Kaggle/UW-Madison_GI_Tract_Image_Segmentation/Data/UWMGI_Mask_Dataset_20220501.zip /content/\n",
        "!unzip -qq /content/UWMGI_Mask_Dataset_20220501.zip -d /content/DATA/MASK\n",
        "!rm /content/UWMGI_Mask_Dataset_20220501.zip"
      ],
      "metadata": {
        "id": "eEyUFPulNw0S"
      },
      "execution_count": null,
      "outputs": []
    },
    {
      "cell_type": "code",
      "source": [
        "%%time\n",
        "!mkdir DATA/ORIGINAL\n",
        "!cp /content/drive/MyDrive/Kaggle/UW-Madison_GI_Tract_Image_Segmentation/Data/original.zip /content/\n",
        "!unzip -qq /content/original.zip -d /content/DATA/ORIGINAL\n",
        "!rm /content/original.zip"
      ],
      "metadata": {
        "id": "-KEmj6-rTcLM"
      },
      "execution_count": null,
      "outputs": []
    },
    {
      "cell_type": "code",
      "source": [
        "!pip install timm"
      ],
      "metadata": {
        "id": "Z62HhOKQRmWO"
      },
      "execution_count": null,
      "outputs": []
    },
    {
      "cell_type": "code",
      "source": [
        "!pip install --upgrade albumentations"
      ],
      "metadata": {
        "id": "_NHGKGAhRvri"
      },
      "execution_count": null,
      "outputs": []
    },
    {
      "cell_type": "code",
      "source": [
        "!pip install --upgrade opencv-python"
      ],
      "metadata": {
        "id": "LXNO2ca8SC6e"
      },
      "execution_count": null,
      "outputs": []
    },
    {
      "cell_type": "code",
      "source": [
        "!pip install colorama"
      ],
      "metadata": {
        "id": "QZ94rBc1TEjA"
      },
      "execution_count": null,
      "outputs": []
    },
    {
      "cell_type": "code",
      "source": [
        "!pip install -q segmentation_models_pytorch\n",
        "!pip install -qU wandb\n",
        "!pip install -q scikit-learn==1.0"
      ],
      "metadata": {
        "id": "aIUNKXOQWKtb"
      },
      "execution_count": null,
      "outputs": []
    },
    {
      "cell_type": "code",
      "source": [
        "!pip install rasterio"
      ],
      "metadata": {
        "id": "vAdphLakXw-4"
      },
      "execution_count": null,
      "outputs": []
    },
    {
      "cell_type": "code",
      "source": [
        "%load_ext autoreload\n",
        "%autoreload 2"
      ],
      "metadata": {
        "id": "PVwhEQAiWex4"
      },
      "execution_count": null,
      "outputs": []
    },
    {
      "cell_type": "code",
      "execution_count": null,
      "metadata": {
        "id": "VtsrXM9oOT0D"
      },
      "outputs": [],
      "source": [
        "import numpy as np\n",
        "import pandas as pd\n",
        "pd.options.plotting.backend = \"plotly\"\n",
        "import random\n",
        "from glob import glob\n",
        "import os, shutil\n",
        "from tqdm import tqdm\n",
        "tqdm.pandas()\n",
        "import time\n",
        "import copy\n",
        "import joblib\n",
        "from collections import defaultdict\n",
        "import gc\n",
        "from IPython import display as ipd\n",
        "\n",
        "# visualization\n",
        "import cv2\n",
        "import matplotlib.pyplot as plt\n",
        "from matplotlib.patches import Rectangle\n",
        "\n",
        "# Sklearn\n",
        "from sklearn.model_selection import StratifiedKFold, KFold, StratifiedGroupKFold\n",
        "\n",
        "# PyTorch \n",
        "import torch\n",
        "import torch.nn as nn\n",
        "import torch.optim as optim\n",
        "from torch.optim import lr_scheduler\n",
        "from torch.utils.data import Dataset, DataLoader\n",
        "from torch.cuda import amp\n",
        "\n",
        "import timm\n",
        "\n",
        "# Albumentations for augmentations\n",
        "import albumentations as A\n",
        "from albumentations.pytorch import ToTensorV2\n",
        "\n",
        "import rasterio\n",
        "from joblib import Parallel, delayed\n",
        "\n",
        "# For colored terminal text\n",
        "from colorama import Fore, Back, Style\n",
        "c_  = Fore.GREEN\n",
        "sr_ = Style.RESET_ALL\n",
        "\n",
        "import warnings\n",
        "warnings.filterwarnings(\"ignore\")\n",
        "\n",
        "# For descriptive error messages\n",
        "os.environ['CUDA_LAUNCH_BLOCKING'] = \"1\""
      ]
    },
    {
      "cell_type": "code",
      "source": [
        "import wandb\n",
        "\n",
        "try:\n",
        "    #from kaggle_secrets import UserSecretsClient\n",
        "    #user_secrets = UserSecretsClient()\n",
        "    #api_key = user_secrets.get_secret(\"WANDB\")\n",
        "    #wandb.login(key=api_key)\n",
        "    #anonymous = None\n",
        "    wandb.login()\n",
        "except:\n",
        "    anonymous = \"must\"\n",
        "    print('To use your W&B account,\\nGo to Add-ons -> Secrets and provide your W&B access token. Use the Label name as WANDB. \\nGet your W&B access token from here: https://wandb.ai/authorize')"
      ],
      "metadata": {
        "id": "ihrOwFLVYqOh"
      },
      "execution_count": null,
      "outputs": []
    },
    {
      "cell_type": "code",
      "source": [
        "class CFG:\n",
        "    seed          = 101\n",
        "    debug         = False # set debug=False for Full Training\n",
        "    exp_name      = 'Baselinev2'\n",
        "    comment       = 'unet-efficientnet_b1-224x224-aug2-split2'\n",
        "    model_name    = 'Unet'\n",
        "    backbone      = 'efficientnet-b1'\n",
        "    train_bs      = 128\n",
        "    valid_bs      = train_bs*2\n",
        "    img_size      = [224, 224]\n",
        "    epochs        = 1#15\n",
        "    lr            = 2e-3\n",
        "    scheduler     = 'CosineAnnealingLR'\n",
        "    min_lr        = 1e-6\n",
        "    T_max         = int(30000/train_bs*epochs)+50\n",
        "    T_0           = 25\n",
        "    warmup_epochs = 0\n",
        "    wd            = 1e-6\n",
        "    n_accumulate  = max(1, 32//train_bs)\n",
        "    n_fold        = 5\n",
        "    num_classes   = 3\n",
        "    device        = torch.device(\"cuda:0\" if torch.cuda.is_available() else \"cpu\")"
      ],
      "metadata": {
        "id": "R-InE7kwY0Zz"
      },
      "execution_count": null,
      "outputs": []
    },
    {
      "cell_type": "code",
      "source": [
        "def set_seed(seed = 42):\n",
        "    '''Sets the seed of the entire notebook so results are the same every time we run.\n",
        "    This is for REPRODUCIBILITY.'''\n",
        "    np.random.seed(seed)\n",
        "    random.seed(seed)\n",
        "    torch.manual_seed(seed)\n",
        "    torch.cuda.manual_seed(seed)\n",
        "    # When running on the CuDNN backend, two further options must be set\n",
        "    torch.backends.cudnn.deterministic = True\n",
        "    torch.backends.cudnn.benchmark = False\n",
        "    # Set a fixed value for the hash seed\n",
        "    os.environ['PYTHONHASHSEED'] = str(seed)\n",
        "    print('> SEEDING DONE')\n",
        "    \n",
        "set_seed(CFG.seed)"
      ],
      "metadata": {
        "id": "4vTXkHgXZAF8"
      },
      "execution_count": null,
      "outputs": []
    },
    {
      "cell_type": "code",
      "source": [
        "df = pd.read_csv('/content/DATA/MASK/train.csv')\n",
        "df['segmentation'] = df.segmentation.fillna('')\n",
        "df['rle_len'] = df.segmentation.map(len) # length of each rle mask\n",
        "df['mask_path'] = df.mask_path.str.replace('/png/','/np').str.replace('.png','.npy')\n",
        "df[\"image_path\"] = df[\"image_path\"].str.replace(\"/kaggle/input/uw-madison-gi-tract-image-segmentation/\", \"/content/DATA/ORIGINAL/\")\n",
        "df['mask_path'] = df.mask_path.str.replace('/png/','/png')\n",
        "df[\"mask_path\"] = df[\"mask_path\"].str.replace(\"/kaggle/input/uwmgi-mask-dataset/\", \"/content/DATA/MASK/\")\n",
        "\n",
        "df2 = df.groupby(['id'])['segmentation'].agg(list).to_frame().reset_index() # rle list of each id\n",
        "df2 = df2.merge(df.groupby(['id'])['rle_len'].agg(sum).to_frame().reset_index()) # total length of all rles of each id\n",
        "\n",
        "df = df.drop(columns=['segmentation', 'class', 'rle_len'])\n",
        "df = df.groupby(['id']).head(1).reset_index(drop=True)\n",
        "df = df.merge(df2, on=['id'])\n",
        "df['empty'] = (df.rle_len==0) # empty masks\n",
        "df.head()"
      ],
      "metadata": {
        "id": "r6YP9CYcZkkV"
      },
      "execution_count": null,
      "outputs": []
    },
    {
      "cell_type": "code",
      "source": [
        "def show_image(img_path):\n",
        "    img = cv2.imread(img_path,cv2.IMREAD_ANYDEPTH)\n",
        "    imgRGB = cv2.cvtColor(img, cv2.COLOR_BGR2RGB)\n",
        "    fig = plt.figure()\n",
        "\n",
        "    ax1 = fig.add_subplot(1, 2, 1)\n",
        "    ax1.imshow(img)\n",
        "    ax2 = fig.add_subplot(1, 2,2)\n",
        "    ax2.imshow(imgRGB)\n",
        "    plt.show()"
      ],
      "metadata": {
        "id": "R1X-Y68Cxug7"
      },
      "execution_count": null,
      "outputs": []
    },
    {
      "cell_type": "code",
      "source": [
        "show_image(df[df[\"empty\"]==False][\"image_path\"].iloc[500])"
      ],
      "metadata": {
        "id": "ZS3b-xVLzDm2"
      },
      "execution_count": null,
      "outputs": []
    },
    {
      "cell_type": "code",
      "source": [
        "#show_image(df[df[\"empty\"]==False][\"mask_path\"].iloc[500])"
      ],
      "metadata": {
        "id": "uiWIKTxDyuMa"
      },
      "execution_count": null,
      "outputs": []
    },
    {
      "cell_type": "code",
      "source": [
        "df['empty'].value_counts().plot.bar()"
      ],
      "metadata": {
        "id": "EbFK8cxUBIol"
      },
      "execution_count": null,
      "outputs": []
    },
    {
      "cell_type": "code",
      "source": [
        "def id2mask(id_):\n",
        "    idf = df[df['id']==id_]\n",
        "    wh = idf[['height','width']].iloc[0]\n",
        "    shape = (wh.height, wh.width, 3)\n",
        "    mask = np.zeros(shape, dtype=np.uint8)\n",
        "    for i, class_ in enumerate(['large_bowel', 'small_bowel', 'stomach']):\n",
        "        cdf = idf[idf['class']==class_]\n",
        "        rle = cdf.segmentation.squeeze()\n",
        "        if len(cdf) and not pd.isna(rle):\n",
        "            mask[..., i] = rle_decode(rle, shape[:2])\n",
        "    return mask\n",
        "\n",
        "def rgb2gray(mask):\n",
        "    pad_mask = np.pad(mask, pad_width=[(0,0),(0,0),(1,0)])\n",
        "    gray_mask = pad_mask.argmax(-1)\n",
        "    return gray_mask\n",
        "\n",
        "#def gray2rgb(mask):\n",
        "#    rgb_mask = tf.keras.utils.to_categorical(mask, num_classes=4)\n",
        "#    return rgb_mask[..., 1:].astype(mask.dtype)"
      ],
      "metadata": {
        "id": "d8jREea0BaMs"
      },
      "execution_count": null,
      "outputs": []
    },
    {
      "cell_type": "code",
      "source": [
        "def load_img(path):\n",
        "    img = cv2.imread(path, cv2.IMREAD_UNCHANGED)\n",
        "    img = np.tile(img[...,None], [1, 1, 3]) # gray to rgb\n",
        "    img = img.astype('float32') # original is uint16\n",
        "    mx = np.max(img)\n",
        "    if mx:\n",
        "        img/=mx # scale image to [0, 1]\n",
        "    return img\n",
        "\n",
        "def load_msk(path):\n",
        "    msk = np.load(path)\n",
        "    msk = msk.astype('float32')\n",
        "    msk/=255.0\n",
        "    return msk\n",
        "    \n",
        "\n",
        "def show_img(img, mask=None):\n",
        "    clahe = cv2.createCLAHE(clipLimit=2.0, tileGridSize=(8,8))\n",
        "#     img = clahe.apply(img)\n",
        "#     plt.figure(figsize=(10,10))\n",
        "    plt.imshow(img, cmap='bone')\n",
        "    \n",
        "    if mask is not None:\n",
        "        # plt.imshow(np.ma.masked_where(mask!=1, mask), alpha=0.5, cmap='autumn')\n",
        "        plt.imshow(mask, alpha=0.5)\n",
        "        handles = [Rectangle((0,0),1,1, color=_c) for _c in [(0.667,0.0,0.0), (0.0,0.667,0.0), (0.0,0.0,0.667)]]\n",
        "        labels = [\"Large Bowel\", \"Small Bowel\", \"Stomach\"]\n",
        "        plt.legend(handles,labels)\n",
        "    plt.axis('off')"
      ],
      "metadata": {
        "id": "IQ6m5DTzBoHS"
      },
      "execution_count": null,
      "outputs": []
    },
    {
      "cell_type": "code",
      "source": [
        "img = load_img(df[df[\"empty\"]==False][\"image_path\"].iloc[500])\n",
        "print(img)"
      ],
      "metadata": {
        "id": "0j89XeSxWgAH"
      },
      "execution_count": null,
      "outputs": []
    },
    {
      "cell_type": "code",
      "source": [
        "mask = load_msk(df[df[\"empty\"]==False][\"mask_path\"].iloc[500])\n",
        "print(mask)\n",
        "print(mask.shape)"
      ],
      "metadata": {
        "id": "29t6IKRIWlIE"
      },
      "execution_count": null,
      "outputs": []
    },
    {
      "cell_type": "code",
      "source": [
        "from PIL import Image\n",
        "\n",
        "#img = Image.open(df[df[\"empty\"]==False][\"image_path\"].iloc[500])\n",
        "#mask = Image.open(df[df[\"empty\"]==False][\"mask_path\"].iloc[500])\n",
        "#show_img(img, mask)"
      ],
      "metadata": {
        "id": "HhmgycTnBzkL"
      },
      "execution_count": null,
      "outputs": []
    },
    {
      "cell_type": "code",
      "source": [
        "# ref: https://www.kaggle.com/paulorzp/run-length-encode-and-decode\n",
        "def rle_decode(mask_rle, shape):\n",
        "    '''\n",
        "    mask_rle: run-length as string formated (start length)\n",
        "    shape: (height,width) of array to return \n",
        "    Returns numpy array, 1 - mask, 0 - background\n",
        "\n",
        "    '''\n",
        "    s = mask_rle.split()\n",
        "    starts, lengths = [np.asarray(x, dtype=int) for x in (s[0:][::2], s[1:][::2])]\n",
        "    starts -= 1\n",
        "    ends = starts + lengths\n",
        "    img = np.zeros(shape[0]*shape[1], dtype=np.uint8)\n",
        "    for lo, hi in zip(starts, ends):\n",
        "        img[lo:hi] = 1\n",
        "    return img.reshape(shape)  # Needed to align to RLE direction\n",
        "\n",
        "\n",
        "# ref.: https://www.kaggle.com/stainsby/fast-tested-rle\n",
        "def rle_encode(img):\n",
        "    '''\n",
        "    img: numpy array, 1 - mask, 0 - background\n",
        "    Returns run length as string formated\n",
        "    '''\n",
        "    pixels = img.flatten()\n",
        "    pixels = np.concatenate([[0], pixels, [0]])\n",
        "    runs = np.where(pixels[1:] != pixels[:-1])[0] + 1\n",
        "    runs[1::2] -= runs[::2]\n",
        "    return ' '.join(str(x) for x in runs)"
      ],
      "metadata": {
        "id": "sf2B3A8jD6W3"
      },
      "execution_count": null,
      "outputs": []
    },
    {
      "cell_type": "code",
      "source": [
        "skf = StratifiedGroupKFold(n_splits=CFG.n_fold, shuffle=True, random_state=CFG.seed)\n",
        "for fold, (train_idx, val_idx) in enumerate(skf.split(df, df['empty'], groups = df[\"case\"])):\n",
        "    df.loc[val_idx, 'fold'] = fold\n",
        "display(df.groupby(['fold','empty'])['id'].count())"
      ],
      "metadata": {
        "id": "ckSbS1e2EZ1P"
      },
      "execution_count": null,
      "outputs": []
    },
    {
      "cell_type": "code",
      "source": [
        "class BuildDataset(torch.utils.data.Dataset):\n",
        "    def __init__(self, df, label=True, transforms=None):\n",
        "        self.df         = df\n",
        "        self.label      = label\n",
        "        self.img_paths  = df['image_path'].tolist()\n",
        "        self.msk_paths  = df['mask_path'].tolist()\n",
        "        self.transforms = transforms\n",
        "        \n",
        "    def __len__(self):\n",
        "        return len(self.df)\n",
        "    \n",
        "    def __getitem__(self, index):\n",
        "        img_path  = self.img_paths[index]\n",
        "        img = []\n",
        "        img = load_img(img_path)\n",
        "        \n",
        "        if self.label:\n",
        "            msk_path = self.msk_paths[index]\n",
        "            msk = load_msk(msk_path)\n",
        "            if self.transforms:\n",
        "                data = self.transforms(image=img, mask=msk)\n",
        "                img  = data['image']\n",
        "                msk  = data['mask']\n",
        "            img = np.transpose(img, (2, 0, 1))\n",
        "            msk = np.transpose(msk, (2, 0, 1))\n",
        "            return torch.tensor(img), torch.tensor(msk)\n",
        "        else:\n",
        "            if self.transforms:\n",
        "                data = self.transforms(image=img)\n",
        "                img  = data['image']\n",
        "            img = np.transpose(img, (2, 0, 1))\n",
        "            return torch.tensor(img)"
      ],
      "metadata": {
        "id": "Gd2ICus73Sq-"
      },
      "execution_count": null,
      "outputs": []
    },
    {
      "cell_type": "code",
      "source": [
        "data_transforms = {\n",
        "    \"train\": A.Compose([\n",
        "        A.Resize(*CFG.img_size, interpolation=cv2.INTER_NEAREST),\n",
        "        A.HorizontalFlip(p=0.5),\n",
        "#         A.VerticalFlip(p=0.5),\n",
        "        A.ShiftScaleRotate(shift_limit=0.0625, scale_limit=0.05, rotate_limit=10, p=0.5),\n",
        "        A.OneOf([\n",
        "            A.GridDistortion(num_steps=5, distort_limit=0.05, p=1.0),\n",
        "# #             A.OpticalDistortion(distort_limit=0.05, shift_limit=0.05, p=1.0),\n",
        "            A.ElasticTransform(alpha=1, sigma=50, alpha_affine=50, p=1.0)\n",
        "        ], p=0.25),\n",
        "        A.CoarseDropout(max_holes=8, max_height=CFG.img_size[0]//20, max_width=CFG.img_size[1]//20,\n",
        "                         min_holes=5, fill_value=0, mask_fill_value=0, p=0.5),\n",
        "        ], p=1.0),\n",
        "    \n",
        "    \"valid\": A.Compose([\n",
        "        A.Resize(*CFG.img_size, interpolation=cv2.INTER_NEAREST),\n",
        "        ], p=1.0)\n",
        "}"
      ],
      "metadata": {
        "id": "vnz2bCRb5ZeX"
      },
      "execution_count": null,
      "outputs": []
    },
    {
      "cell_type": "code",
      "source": [
        "def prepare_loaders(fold, debug=False):\n",
        "    train_df = df.query(\"fold!=@fold\").reset_index(drop=True)\n",
        "    valid_df = df.query(\"fold==@fold\").reset_index(drop=True)\n",
        "    if debug:\n",
        "        train_df = train_df.head(32*5).query(\"empty==0\")\n",
        "        valid_df = valid_df.head(32*3).query(\"empty==0\")\n",
        "    train_dataset = BuildDataset(train_df, transforms=data_transforms['train'])\n",
        "    valid_dataset = BuildDataset(valid_df, transforms=data_transforms['valid'])\n",
        "\n",
        "    train_loader = DataLoader(train_dataset, batch_size=CFG.train_bs if not debug else 20, \n",
        "                              num_workers=4, shuffle=True, pin_memory=True, drop_last=False)\n",
        "    valid_loader = DataLoader(valid_dataset, batch_size=CFG.valid_bs if not debug else 20, \n",
        "                              num_workers=4, shuffle=False, pin_memory=True)\n",
        "    \n",
        "    return train_loader, valid_loader"
      ],
      "metadata": {
        "id": "z7ad2Krp5hZp"
      },
      "execution_count": null,
      "outputs": []
    },
    {
      "cell_type": "code",
      "source": [
        "train_loader, valid_loader = prepare_loaders(fold=0, debug=True)"
      ],
      "metadata": {
        "id": "bz_-ss3D5l6d"
      },
      "execution_count": null,
      "outputs": []
    },
    {
      "cell_type": "code",
      "source": [
        "imgs, msks = next(iter(train_loader))\n",
        "imgs.size(), msks.size()"
      ],
      "metadata": {
        "id": "mypS7Im45pOD"
      },
      "execution_count": null,
      "outputs": []
    },
    {
      "cell_type": "code",
      "source": [
        "def plot_batch(imgs, msks, size=3):\n",
        "    plt.figure(figsize=(5*5, 5))\n",
        "    for idx in range(size):\n",
        "        plt.subplot(1, 5, idx+1)\n",
        "        img = imgs[idx,].permute((1, 2, 0)).numpy()*255.0\n",
        "        img = img.astype('uint8')\n",
        "        msk = msks[idx,].permute((1, 2, 0)).numpy()*255.0\n",
        "        show_img(img, msk)\n",
        "    plt.tight_layout()\n",
        "    plt.show()"
      ],
      "metadata": {
        "id": "kXTapWSpYU-i"
      },
      "execution_count": null,
      "outputs": []
    },
    {
      "cell_type": "code",
      "source": [
        "plot_batch(imgs, msks, size=5)"
      ],
      "metadata": {
        "id": "-Mz9_y1-YQaQ"
      },
      "execution_count": null,
      "outputs": []
    },
    {
      "cell_type": "code",
      "source": [
        "import gc\n",
        "gc.collect()"
      ],
      "metadata": {
        "id": "iPekVFoJZqT4"
      },
      "execution_count": null,
      "outputs": []
    },
    {
      "cell_type": "code",
      "source": [
        "import segmentation_models_pytorch as smp\n",
        "\n",
        "def build_model():\n",
        "    model = smp.Unet(\n",
        "        encoder_name=CFG.backbone,      # choose encoder, e.g. mobilenet_v2 or efficientnet-b7\n",
        "        encoder_weights=\"imagenet\",     # use `imagenet` pre-trained weights for encoder initialization\n",
        "        in_channels=3,                  # model input channels (1 for gray-scale images, 3 for RGB, etc.)\n",
        "        classes=CFG.num_classes,        # model output channels (number of classes in your dataset)\n",
        "        activation=None,\n",
        "    )\n",
        "    model.to(CFG.device)\n",
        "    return model\n",
        "\n",
        "def load_model(path):\n",
        "    model = build_model()\n",
        "    model.load_state_dict(torch.load(path))\n",
        "    model.eval()\n",
        "    return model"
      ],
      "metadata": {
        "id": "49bRz9QBdGpA"
      },
      "execution_count": null,
      "outputs": []
    },
    {
      "cell_type": "code",
      "source": [
        "JaccardLoss = smp.losses.JaccardLoss(mode='multilabel')\n",
        "DiceLoss    = smp.losses.DiceLoss(mode='multilabel')\n",
        "BCELoss     = smp.losses.SoftBCEWithLogitsLoss()\n",
        "LovaszLoss  = smp.losses.LovaszLoss(mode='multilabel', per_image=False)\n",
        "TverskyLoss = smp.losses.TverskyLoss(mode='multilabel', log_loss=False)\n",
        "\n",
        "def dice_coef(y_true, y_pred, thr=0.5, dim=(2,3), epsilon=0.001):\n",
        "    y_true = y_true.to(torch.float32)\n",
        "    y_pred = (y_pred>thr).to(torch.float32)\n",
        "    inter = (y_true*y_pred).sum(dim=dim)\n",
        "    den = y_true.sum(dim=dim) + y_pred.sum(dim=dim)\n",
        "    dice = ((2*inter+epsilon)/(den+epsilon)).mean(dim=(1,0))\n",
        "    return dice\n",
        "\n",
        "def iou_coef(y_true, y_pred, thr=0.5, dim=(2,3), epsilon=0.001):\n",
        "    y_true = y_true.to(torch.float32)\n",
        "    y_pred = (y_pred>thr).to(torch.float32)\n",
        "    inter = (y_true*y_pred).sum(dim=dim)\n",
        "    union = (y_true + y_pred - y_true*y_pred).sum(dim=dim)\n",
        "    iou = ((inter+epsilon)/(union+epsilon)).mean(dim=(1,0))\n",
        "    return iou\n",
        "\n",
        "def criterion(y_pred, y_true):\n",
        "    return 0.5*BCELoss(y_pred, y_true) + 0.5*TverskyLoss(y_pred, y_true)"
      ],
      "metadata": {
        "id": "Qx8tGpByddfK"
      },
      "execution_count": null,
      "outputs": []
    },
    {
      "cell_type": "code",
      "source": [
        "def train_one_epoch(model, optimizer, scheduler, dataloader, device, epoch):\n",
        "    model.train()\n",
        "    scaler = amp.GradScaler()\n",
        "    \n",
        "    dataset_size = 0\n",
        "    running_loss = 0.0\n",
        "    \n",
        "    pbar = tqdm(enumerate(dataloader), total=len(dataloader), desc='Train ')\n",
        "    for step, (images, masks) in pbar:         \n",
        "        images = images.to(device, dtype=torch.float)\n",
        "        masks  = masks.to(device, dtype=torch.float)\n",
        "        \n",
        "        batch_size = images.size(0)\n",
        "        \n",
        "        with amp.autocast(enabled=True):\n",
        "            y_pred = model(images)\n",
        "            loss   = criterion(y_pred, masks)\n",
        "            loss   = loss / CFG.n_accumulate\n",
        "            \n",
        "        scaler.scale(loss).backward()\n",
        "    \n",
        "        if (step + 1) % CFG.n_accumulate == 0:\n",
        "            scaler.step(optimizer)\n",
        "            scaler.update()\n",
        "\n",
        "            # zero the parameter gradients\n",
        "            optimizer.zero_grad()\n",
        "\n",
        "            if scheduler is not None:\n",
        "                scheduler.step()\n",
        "                \n",
        "        running_loss += (loss.item() * batch_size)\n",
        "        dataset_size += batch_size\n",
        "        \n",
        "        epoch_loss = running_loss / dataset_size\n",
        "        \n",
        "        mem = torch.cuda.memory_reserved() / 1E9 if torch.cuda.is_available() else 0\n",
        "        current_lr = optimizer.param_groups[0]['lr']\n",
        "        pbar.set_postfix(train_loss=f'{epoch_loss:0.4f}',\n",
        "                        lr=f'{current_lr:0.5f}',\n",
        "                        gpu_mem=f'{mem:0.2f} GB')\n",
        "    torch.cuda.empty_cache()\n",
        "    gc.collect()\n",
        "    \n",
        "    return epoch_loss"
      ],
      "metadata": {
        "id": "GozWxzGZdkjM"
      },
      "execution_count": null,
      "outputs": []
    },
    {
      "cell_type": "code",
      "source": [
        "@torch.no_grad()\n",
        "def valid_one_epoch(model, dataloader, device, epoch):\n",
        "    model.eval()\n",
        "    \n",
        "    dataset_size = 0\n",
        "    running_loss = 0.0\n",
        "    \n",
        "    val_scores = []\n",
        "    \n",
        "    pbar = tqdm(enumerate(dataloader), total=len(dataloader), desc='Valid ')\n",
        "    for step, (images, masks) in pbar:        \n",
        "        images  = images.to(device, dtype=torch.float)\n",
        "        masks   = masks.to(device, dtype=torch.float)\n",
        "        \n",
        "        batch_size = images.size(0)\n",
        "        \n",
        "        y_pred  = model(images)\n",
        "        loss    = criterion(y_pred, masks)\n",
        "        \n",
        "        running_loss += (loss.item() * batch_size)\n",
        "        dataset_size += batch_size\n",
        "        \n",
        "        epoch_loss = running_loss / dataset_size\n",
        "        \n",
        "        y_pred = nn.Sigmoid()(y_pred)\n",
        "        val_dice = dice_coef(masks, y_pred).cpu().detach().numpy()\n",
        "        val_jaccard = iou_coef(masks, y_pred).cpu().detach().numpy()\n",
        "        val_scores.append([val_dice, val_jaccard])\n",
        "        \n",
        "        mem = torch.cuda.memory_reserved() / 1E9 if torch.cuda.is_available() else 0\n",
        "        current_lr = optimizer.param_groups[0]['lr']\n",
        "        pbar.set_postfix(valid_loss=f'{epoch_loss:0.4f}',\n",
        "                        lr=f'{current_lr:0.5f}',\n",
        "                        gpu_memory=f'{mem:0.2f} GB')\n",
        "    val_scores  = np.mean(val_scores, axis=0)\n",
        "    torch.cuda.empty_cache()\n",
        "    gc.collect()\n",
        "    \n",
        "    return epoch_loss, val_scores"
      ],
      "metadata": {
        "id": "23_C66bMd0tw"
      },
      "execution_count": null,
      "outputs": []
    },
    {
      "cell_type": "code",
      "source": [
        "def run_training(model, optimizer, scheduler, device, num_epochs):\n",
        "    # To automatically log gradients\n",
        "    wandb.watch(model, log_freq=100)\n",
        "    \n",
        "    if torch.cuda.is_available():\n",
        "        print(\"cuda: {}\\n\".format(torch.cuda.get_device_name()))\n",
        "    \n",
        "    start = time.time()\n",
        "    best_model_wts = copy.deepcopy(model.state_dict())\n",
        "    best_dice      = -np.inf\n",
        "    best_epoch     = -1\n",
        "    history = defaultdict(list)\n",
        "    \n",
        "    for epoch in range(1, num_epochs + 1): \n",
        "        gc.collect()\n",
        "        print(f'Epoch {epoch}/{num_epochs}', end='')\n",
        "        train_loss = train_one_epoch(model, optimizer, scheduler, \n",
        "                                           dataloader=train_loader, \n",
        "                                           device=CFG.device, epoch=epoch)\n",
        "        \n",
        "        val_loss, val_scores = valid_one_epoch(model, valid_loader, \n",
        "                                                 device=CFG.device, \n",
        "                                                 epoch=epoch)\n",
        "        val_dice, val_jaccard = val_scores\n",
        "    \n",
        "        history['Train Loss'].append(train_loss)\n",
        "        history['Valid Loss'].append(val_loss)\n",
        "        history['Valid Dice'].append(val_dice)\n",
        "        history['Valid Jaccard'].append(val_jaccard)\n",
        "        \n",
        "        # Log the metrics\n",
        "        wandb.log({\"Train Loss\": train_loss, \n",
        "                   \"Valid Loss\": val_loss,\n",
        "                   \"Valid Dice\": val_dice,\n",
        "                   \"Valid Jaccard\": val_jaccard,\n",
        "                   \"LR\":scheduler.get_last_lr()[0]})\n",
        "        \n",
        "        print(f'Valid Dice: {val_dice:0.4f} | Valid Jaccard: {val_jaccard:0.4f}')\n",
        "        \n",
        "        # deep copy the model\n",
        "        if val_dice >= best_dice:\n",
        "            print(f\"{c_}Valid Score Improved ({best_dice:0.4f} ---> {val_dice:0.4f})\")\n",
        "            best_dice    = val_dice\n",
        "            best_jaccard = val_jaccard\n",
        "            best_epoch   = epoch\n",
        "            run.summary[\"Best Dice\"]    = best_dice\n",
        "            run.summary[\"Best Jaccard\"] = best_jaccard\n",
        "            run.summary[\"Best Epoch\"]   = best_epoch\n",
        "            best_model_wts = copy.deepcopy(model.state_dict())\n",
        "            #PATH = f\"best_epoch-{fold:02d}.bin\"\n",
        "            PATH = f\"/content/OUTPUT/MODEL/best_epoch-{fold:02d}.bin\"\n",
        "            torch.save(model.state_dict(), PATH)\n",
        "            # Save a model file from the current directory\n",
        "            wandb.save(PATH)\n",
        "            print(f\"Model Saved{sr_}\")\n",
        "            \n",
        "        last_model_wts = copy.deepcopy(model.state_dict())\n",
        "        #PATH = f\"last_epoch-{fold:02d}.bin\"\n",
        "        PATH = f\"/content/OUTPUT/MODEL/last_epoch-{fold:02d}.bin\"\n",
        "        torch.save(model.state_dict(), PATH)\n",
        "            \n",
        "        print(); print()\n",
        "    \n",
        "    end = time.time()\n",
        "    time_elapsed = end - start\n",
        "    print('Training complete in {:.0f}h {:.0f}m {:.0f}s'.format(\n",
        "        time_elapsed // 3600, (time_elapsed % 3600) // 60, (time_elapsed % 3600) % 60))\n",
        "    print(\"Best Score: {:.4f}\".format(best_jaccard))\n",
        "    \n",
        "    # load best model weights\n",
        "    model.load_state_dict(best_model_wts)\n",
        "    \n",
        "    return model, history"
      ],
      "metadata": {
        "id": "dJMgjiKZiT8s"
      },
      "execution_count": null,
      "outputs": []
    },
    {
      "cell_type": "code",
      "source": [
        "def fetch_scheduler(optimizer):\n",
        "    if CFG.scheduler == 'CosineAnnealingLR':\n",
        "        scheduler = lr_scheduler.CosineAnnealingLR(optimizer,T_max=CFG.T_max, \n",
        "                                                   eta_min=CFG.min_lr)\n",
        "    elif CFG.scheduler == 'CosineAnnealingWarmRestarts':\n",
        "        scheduler = lr_scheduler.CosineAnnealingWarmRestarts(optimizer,T_0=CFG.T_0, \n",
        "                                                             eta_min=CFG.min_lr)\n",
        "    elif CFG.scheduler == 'ReduceLROnPlateau':\n",
        "        scheduler = lr_scheduler.ReduceLROnPlateau(optimizer,\n",
        "                                                   mode='min',\n",
        "                                                   factor=0.1,\n",
        "                                                   patience=7,\n",
        "                                                   threshold=0.0001,\n",
        "                                                   min_lr=CFG.min_lr,)\n",
        "    elif CFG.scheduer == 'ExponentialLR':\n",
        "        scheduler = lr_scheduler.ExponentialLR(optimizer, gamma=0.85)\n",
        "    elif CFG.scheduler == None:\n",
        "        return None\n",
        "        \n",
        "    return scheduler"
      ],
      "metadata": {
        "id": "V4iMGjr1iZSv"
      },
      "execution_count": null,
      "outputs": []
    },
    {
      "cell_type": "code",
      "source": [
        "model = build_model()\n",
        "optimizer = optim.Adam(model.parameters(), lr=CFG.lr, weight_decay=CFG.wd)\n",
        "scheduler = fetch_scheduler(optimizer)"
      ],
      "metadata": {
        "id": "KJBcKqmKic9X"
      },
      "execution_count": null,
      "outputs": []
    },
    {
      "cell_type": "code",
      "source": [
        "for fold in range(1):\n",
        "    print(f'#'*15)\n",
        "    print(f'### Fold: {fold}')\n",
        "    print(f'#'*15)\n",
        "    run = wandb.init(project='uw-maddison-gi-tract', \n",
        "                     config={k:v for k, v in dict(vars(CFG)).items() if '__' not in k},\n",
        "                     #anonymous=anonymous,\n",
        "                     name=f\"fold-{fold}|dim-{CFG.img_size[0]}x{CFG.img_size[1]}|model-{CFG.model_name}\",\n",
        "                     group=CFG.comment,\n",
        "                    )\n",
        "    train_loader, valid_loader = prepare_loaders(fold=fold, debug=CFG.debug)\n",
        "    model     = build_model()\n",
        "    optimizer = optim.Adam(model.parameters(), lr=CFG.lr, weight_decay=CFG.wd)\n",
        "    scheduler = fetch_scheduler(optimizer)\n",
        "    model, history = run_training(model, optimizer, scheduler,\n",
        "                                  device=CFG.device,\n",
        "                                  num_epochs=CFG.epochs)\n",
        "    run.finish()\n",
        "    display(ipd.IFrame(run.url, width=1000, height=720))"
      ],
      "metadata": {
        "id": "1XCkUKIiitBe"
      },
      "execution_count": null,
      "outputs": []
    },
    {
      "cell_type": "code",
      "source": [
        "test_dataset = BuildDataset(df.query(\"fold==0 & empty==0\").sample(frac=1.0), label=False, \n",
        "                            transforms=data_transforms['valid'])\n",
        "test_loader  = DataLoader(test_dataset, batch_size=5, \n",
        "                          num_workers=4, shuffle=False, pin_memory=True)\n",
        "imgs = next(iter(test_loader))\n",
        "imgs = imgs.to(CFG.device, dtype=torch.float)\n",
        "\n",
        "preds = []\n",
        "for fold in range(1):\n",
        "    model = load_model(f\"/content/OUTPUT/MODEL/best_epoch-{fold:02d}.bin\")\n",
        "    with torch.no_grad():\n",
        "        pred = model(imgs)\n",
        "        pred = (nn.Sigmoid()(pred)>0.5).double()\n",
        "    preds.append(pred)\n",
        "    \n",
        "imgs  = imgs.cpu().detach()\n",
        "preds = torch.mean(torch.stack(preds, dim=0), dim=0).cpu().detach()"
      ],
      "metadata": {
        "id": "qfaNl52sAj1Y"
      },
      "execution_count": null,
      "outputs": []
    },
    {
      "cell_type": "code",
      "source": [
        "wandb_url = run.url\n",
        "with open('/content/OUTPUT/wandb_url.txt', 'w') as f:\n",
        "    f.write(wandb_url)"
      ],
      "metadata": {
        "id": "NgGJQTrm-dBN"
      },
      "execution_count": null,
      "outputs": []
    },
    {
      "cell_type": "code",
      "source": [
        "plot_batch(imgs, preds, size=5)"
      ],
      "metadata": {
        "id": "BQeE7vGjAq5d"
      },
      "execution_count": null,
      "outputs": []
    },
    {
      "cell_type": "code",
      "source": [
        "from datetime import datetime\n",
        "import pytz\n",
        "\n",
        "LOG_PATH = '/content/drive/MyDrive/Kaggle/UW-Madison_GI_Tract_Image_Segmentation/Result/' + datetime.now(pytz.timezone('Asia/Tokyo')).strftime(\"%Y%m%d_%H:%M\") \n",
        "!mkdir $LOG_PATH\n",
        "#!cp /content/log.log $LOG_PATH\n",
        "#!cp -r /content/TEST $LOG_PATH\n",
        "#!cp -r /content/OOF $LOG_PATH\n",
        "#!cp -r /content/DATA $LOG_PATH\n",
        "!cp -r /content/OUTPUT $LOG_PATH"
      ],
      "metadata": {
        "id": "suenQn-7B7-X"
      },
      "execution_count": null,
      "outputs": []
    }
  ]
}